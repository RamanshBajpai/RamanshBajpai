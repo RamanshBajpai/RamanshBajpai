{
 "cells": [
  {
   "cell_type": "code",
   "execution_count": 1,
   "id": "50e3e2ad",
   "metadata": {},
   "outputs": [
    {
     "name": "stderr",
     "output_type": "stream",
     "text": [
      "[nltk_data] Downloading package punkt to\n",
      "[nltk_data]     C:\\Users\\raman\\AppData\\Roaming\\nltk_data...\n",
      "[nltk_data]   Package punkt is already up-to-date!\n"
     ]
    },
    {
     "data": {
      "text/plain": [
       "True"
      ]
     },
     "execution_count": 1,
     "metadata": {},
     "output_type": "execute_result"
    }
   ],
   "source": [
    "import nltk\n",
    "nltk.download('punkt')"
   ]
  },
  {
   "cell_type": "code",
   "execution_count": 2,
   "id": "d935184c",
   "metadata": {},
   "outputs": [],
   "source": [
    "import nltk.corpus"
   ]
  },
  {
   "cell_type": "code",
   "execution_count": 3,
   "id": "835b0410",
   "metadata": {},
   "outputs": [],
   "source": [
    "## Tokenization (framing the words in nlp)"
   ]
  },
  {
   "cell_type": "code",
   "execution_count": 4,
   "id": "372baf99",
   "metadata": {},
   "outputs": [],
   "source": [
    "from nltk.tokenize import word_tokenize"
   ]
  },
  {
   "cell_type": "code",
   "execution_count": 5,
   "id": "abe87217",
   "metadata": {},
   "outputs": [],
   "source": [
    "Concrete= \"Ramansh Bajpai developed Light Transmitting green Concrete using industrial and agro wastes\""
   ]
  },
  {
   "cell_type": "code",
   "execution_count": 6,
   "id": "01647380",
   "metadata": {},
   "outputs": [
    {
     "data": {
      "text/plain": [
       "['Ramansh',\n",
       " 'Bajpai',\n",
       " 'developed',\n",
       " 'Light',\n",
       " 'Transmitting',\n",
       " 'green',\n",
       " 'Concrete',\n",
       " 'using',\n",
       " 'industrial',\n",
       " 'and',\n",
       " 'agro',\n",
       " 'wastes']"
      ]
     },
     "execution_count": 6,
     "metadata": {},
     "output_type": "execute_result"
    }
   ],
   "source": [
    "word_tokenize(Concrete)"
   ]
  },
  {
   "cell_type": "code",
   "execution_count": 7,
   "id": "3318ace9",
   "metadata": {},
   "outputs": [],
   "source": [
    "##sentence tokenizer (each individual sentence is taken as one token)\n",
    "from nltk.tokenize import sent_tokenize"
   ]
  },
  {
   "cell_type": "code",
   "execution_count": 8,
   "id": "9882bc4d",
   "metadata": {},
   "outputs": [],
   "source": [
    "Concrete2= \"Ramansh Bajpai developed Light Transmitting green Concrete using industrial and agro wastes. Innovation list of UNDP\""
   ]
  },
  {
   "cell_type": "code",
   "execution_count": 9,
   "id": "0bcf7f09",
   "metadata": {},
   "outputs": [
    {
     "data": {
      "text/plain": [
       "['Ramansh Bajpai developed Light Transmitting green Concrete using industrial and agro wastes.',\n",
       " 'Innovation list of UNDP']"
      ]
     },
     "execution_count": 9,
     "metadata": {},
     "output_type": "execute_result"
    }
   ],
   "source": [
    "sent_tokenize(Concrete2)"
   ]
  },
  {
   "cell_type": "code",
   "execution_count": 10,
   "id": "390ae9cd",
   "metadata": {},
   "outputs": [
    {
     "data": {
      "text/plain": [
       "12"
      ]
     },
     "execution_count": 10,
     "metadata": {},
     "output_type": "execute_result"
    }
   ],
   "source": [
    "len(word_tokenize(Concrete))"
   ]
  },
  {
   "cell_type": "code",
   "execution_count": 11,
   "id": "dbb4bfd2",
   "metadata": {},
   "outputs": [],
   "source": [
    "#bigrams and n-grams (for getting possible suggestions for questions)\n",
    "# passing 2 token(smallest unit for language) per time is bi grams and so on..."
   ]
  },
  {
   "cell_type": "code",
   "execution_count": 12,
   "id": "f9b292c8",
   "metadata": {},
   "outputs": [],
   "source": [
    "rb=\"Is anyone listening. I think i am lost. Help me\""
   ]
  },
  {
   "cell_type": "code",
   "execution_count": 13,
   "id": "72ccc701",
   "metadata": {},
   "outputs": [],
   "source": [
    "rb_token=(word_tokenize(rb))"
   ]
  },
  {
   "cell_type": "code",
   "execution_count": 14,
   "id": "3559d5c6",
   "metadata": {},
   "outputs": [
    {
     "data": {
      "text/plain": [
       "[('Is', 'anyone'),\n",
       " ('anyone', 'listening'),\n",
       " ('listening', '.'),\n",
       " ('.', 'I'),\n",
       " ('I', 'think'),\n",
       " ('think', 'i'),\n",
       " ('i', 'am'),\n",
       " ('am', 'lost'),\n",
       " ('lost', '.'),\n",
       " ('.', 'Help'),\n",
       " ('Help', 'me')]"
      ]
     },
     "execution_count": 14,
     "metadata": {},
     "output_type": "execute_result"
    }
   ],
   "source": [
    "list(nltk.bigrams(rb_token))"
   ]
  },
  {
   "cell_type": "code",
   "execution_count": 15,
   "id": "18d371e3",
   "metadata": {},
   "outputs": [],
   "source": [
    "#for n grams of token code is list(nltk.ngrams(rb_token,5))"
   ]
  },
  {
   "cell_type": "code",
   "execution_count": 16,
   "id": "e7c2ffdd",
   "metadata": {},
   "outputs": [],
   "source": [
    "##Stemming (use for suffix and prefixes to give sentence or word a meaning on route word)"
   ]
  },
  {
   "cell_type": "code",
   "execution_count": 17,
   "id": "cffbc167",
   "metadata": {},
   "outputs": [],
   "source": [
    "from nltk.stem import PorterStemmer"
   ]
  },
  {
   "cell_type": "code",
   "execution_count": 18,
   "id": "6f8c3d70",
   "metadata": {},
   "outputs": [],
   "source": [
    "mstem=PorterStemmer()"
   ]
  },
  {
   "cell_type": "code",
   "execution_count": 19,
   "id": "ad3d1b1d",
   "metadata": {},
   "outputs": [
    {
     "data": {
      "text/plain": [
       "'walk'"
      ]
     },
     "execution_count": 19,
     "metadata": {},
     "output_type": "execute_result"
    }
   ],
   "source": [
    "mstem.stem(\"walking\")"
   ]
  },
  {
   "cell_type": "code",
   "execution_count": 20,
   "id": "8f187af7",
   "metadata": {},
   "outputs": [
    {
     "data": {
      "text/plain": [
       "'run'"
      ]
     },
     "execution_count": 20,
     "metadata": {},
     "output_type": "execute_result"
    }
   ],
   "source": [
    "mstem.stem(\"running\")"
   ]
  },
  {
   "cell_type": "code",
   "execution_count": 21,
   "id": "0ec50643",
   "metadata": {},
   "outputs": [],
   "source": [
    "#pos-tagging (part of speech nouns pronouns etc tagging with it)"
   ]
  },
  {
   "cell_type": "code",
   "execution_count": 25,
   "id": "859c4b99",
   "metadata": {},
   "outputs": [],
   "source": [
    "tm=\"Ram raj is good in maths\""
   ]
  },
  {
   "cell_type": "code",
   "execution_count": 27,
   "id": "9ffdd788",
   "metadata": {},
   "outputs": [],
   "source": [
    "tm_token=word_tokenize(tm)"
   ]
  },
  {
   "cell_type": "code",
   "execution_count": 29,
   "id": "b325c808",
   "metadata": {},
   "outputs": [
    {
     "name": "stderr",
     "output_type": "stream",
     "text": [
      "[nltk_data] Downloading package averaged_perceptron_tagger to\n",
      "[nltk_data]     C:\\Users\\raman\\AppData\\Roaming\\nltk_data...\n",
      "[nltk_data]   Unzipping taggers\\averaged_perceptron_tagger.zip.\n"
     ]
    },
    {
     "data": {
      "text/plain": [
       "True"
      ]
     },
     "execution_count": 29,
     "metadata": {},
     "output_type": "execute_result"
    }
   ],
   "source": [
    "nltk.download('averaged_perceptron_tagger')"
   ]
  },
  {
   "cell_type": "code",
   "execution_count": 30,
   "id": "c5802130",
   "metadata": {},
   "outputs": [
    {
     "data": {
      "text/plain": [
       "[('Ram', 'NNP'),\n",
       " ('raj', 'NN'),\n",
       " ('is', 'VBZ'),\n",
       " ('good', 'JJ'),\n",
       " ('in', 'IN'),\n",
       " ('maths', 'NNS')]"
      ]
     },
     "execution_count": 30,
     "metadata": {},
     "output_type": "execute_result"
    }
   ],
   "source": [
    "nltk.pos_tag(tm_token)"
   ]
  },
  {
   "cell_type": "code",
   "execution_count": 31,
   "id": "76602099",
   "metadata": {},
   "outputs": [],
   "source": [
    "#name entity recognition (reconise object place in chunks)"
   ]
  },
  {
   "cell_type": "code",
   "execution_count": 32,
   "id": "101d3106",
   "metadata": {},
   "outputs": [],
   "source": [
    "from nltk import ne_chunk"
   ]
  },
  {
   "cell_type": "code",
   "execution_count": 33,
   "id": "2924ccc1",
   "metadata": {},
   "outputs": [],
   "source": [
    "president=\"Abdul Kalam was the best president of India \""
   ]
  },
  {
   "cell_type": "code",
   "execution_count": 34,
   "id": "a29a2752",
   "metadata": {},
   "outputs": [],
   "source": [
    "pres_token=word_tokenize(president)"
   ]
  },
  {
   "cell_type": "code",
   "execution_count": 35,
   "id": "2b08d69a",
   "metadata": {},
   "outputs": [],
   "source": [
    "Pres_pos=nltk.pos_tag(pres_token)"
   ]
  },
  {
   "cell_type": "code",
   "execution_count": 38,
   "id": "859a68be",
   "metadata": {},
   "outputs": [
    {
     "name": "stderr",
     "output_type": "stream",
     "text": [
      "[nltk_data] Downloading package maxent_ne_chunker to\n",
      "[nltk_data]     C:\\Users\\raman\\AppData\\Roaming\\nltk_data...\n",
      "[nltk_data]   Package maxent_ne_chunker is already up-to-date!\n",
      "[nltk_data] Downloading package words to\n",
      "[nltk_data]     C:\\Users\\raman\\AppData\\Roaming\\nltk_data...\n"
     ]
    },
    {
     "name": "stdout",
     "output_type": "stream",
     "text": [
      "(S\n",
      "  (PERSON Abdul/NNP)\n",
      "  (PERSON Kalam/NNP)\n",
      "  was/VBD\n",
      "  the/DT\n",
      "  best/JJS\n",
      "  president/NN\n",
      "  of/IN\n",
      "  (GPE India/NNP))\n"
     ]
    },
    {
     "name": "stderr",
     "output_type": "stream",
     "text": [
      "[nltk_data]   Unzipping corpora\\words.zip.\n"
     ]
    }
   ],
   "source": [
    "nltk.download('maxent_ne_chunker')\n",
    "nltk.download('words')\n",
    "print(ne_chunk(Pres_pos))"
   ]
  },
  {
   "cell_type": "code",
   "execution_count": 39,
   "id": "44cd60a6",
   "metadata": {},
   "outputs": [],
   "source": [
    "# to covert text to speech we need library called gtts i.e google text to speech"
   ]
  },
  {
   "cell_type": "code",
   "execution_count": 40,
   "id": "7bdaafba",
   "metadata": {},
   "outputs": [
    {
     "name": "stdout",
     "output_type": "stream",
     "text": [
      "Defaulting to user installation because normal site-packages is not writeableNote: you may need to restart the kernel to use updated packages.\n"
     ]
    },
    {
     "name": "stderr",
     "output_type": "stream",
     "text": [
      "  WARNING: The script gtts-cli.exe is installed in 'C:\\Users\\raman\\AppData\\Roaming\\Python\\Python39\\Scripts' which is not on PATH.\n",
      "  Consider adding this directory to PATH or, if you prefer to suppress this warning, use --no-warn-script-location.\n",
      "WARNING: You are using pip version 21.2.4; however, version 21.3.1 is available.\n",
      "You should consider upgrading via the 'C:\\Program Files\\Python39\\python.exe -m pip install --upgrade pip' command.\n"
     ]
    },
    {
     "name": "stdout",
     "output_type": "stream",
     "text": [
      "\n",
      "Collecting gtts\n",
      "  Downloading gTTS-2.2.3-py3-none-any.whl (25 kB)\n",
      "Requirement already satisfied: six in c:\\users\\raman\\appdata\\roaming\\python\\python39\\site-packages (from gtts) (1.16.0)\n",
      "Requirement already satisfied: click in c:\\users\\raman\\appdata\\roaming\\python\\python39\\site-packages (from gtts) (8.0.3)\n",
      "Requirement already satisfied: requests in c:\\users\\raman\\appdata\\roaming\\python\\python39\\site-packages (from gtts) (2.26.0)\n",
      "Requirement already satisfied: colorama in c:\\users\\raman\\appdata\\roaming\\python\\python39\\site-packages (from click->gtts) (0.4.4)\n",
      "Requirement already satisfied: certifi>=2017.4.17 in c:\\users\\raman\\appdata\\roaming\\python\\python39\\site-packages (from requests->gtts) (2021.5.30)\n",
      "Requirement already satisfied: urllib3<1.27,>=1.21.1 in c:\\users\\raman\\appdata\\roaming\\python\\python39\\site-packages (from requests->gtts) (1.26.6)\n",
      "Requirement already satisfied: charset-normalizer~=2.0.0 in c:\\users\\raman\\appdata\\roaming\\python\\python39\\site-packages (from requests->gtts) (2.0.4)\n",
      "Requirement already satisfied: idna<4,>=2.5 in c:\\users\\raman\\appdata\\roaming\\python\\python39\\site-packages (from requests->gtts) (3.2)\n",
      "Installing collected packages: gtts\n",
      "Successfully installed gtts-2.2.3\n"
     ]
    }
   ],
   "source": [
    "pip install gtts"
   ]
  },
  {
   "cell_type": "code",
   "execution_count": 42,
   "id": "597f3eed",
   "metadata": {},
   "outputs": [],
   "source": [
    "from gtts import gTTS"
   ]
  },
  {
   "cell_type": "code",
   "execution_count": 43,
   "id": "0076ef02",
   "metadata": {},
   "outputs": [],
   "source": [
    "from IPython.display import Audio"
   ]
  },
  {
   "cell_type": "code",
   "execution_count": 48,
   "id": "3a2ba52f",
   "metadata": {},
   "outputs": [
    {
     "data": {
      "text/html": [
       "\n",
       "                <audio  controls=\"controls\" autoplay=\"autoplay\">\n",
       "                    <source src=\"data:audio/wav;base64,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\" type=\"audio/wav\" />\n",
       "                    Your browser does not support the audio element.\n",
       "                </audio>\n",
       "              "
      ],
      "text/plain": [
       "<IPython.lib.display.Audio object>"
      ]
     },
     "execution_count": 48,
     "metadata": {},
     "output_type": "execute_result"
    }
   ],
   "source": [
    "tts=gTTS(\"Ramansh Bajpai developed Light Transmitting green Concrete using industrial and agro wastes. Innovation list of UNDP\")\n",
    "tts.save('1.wav')\n",
    "snd_file='1.wav'\n",
    "Audio(snd_file, autoplay=True)"
   ]
  },
  {
   "cell_type": "code",
   "execution_count": null,
   "id": "9dbf3686",
   "metadata": {},
   "outputs": [],
   "source": []
  }
 ],
 "metadata": {
  "kernelspec": {
   "display_name": "Python 3 (ipykernel)",
   "language": "python",
   "name": "python3"
  },
  "language_info": {
   "codemirror_mode": {
    "name": "ipython",
    "version": 3
   },
   "file_extension": ".py",
   "mimetype": "text/x-python",
   "name": "python",
   "nbconvert_exporter": "python",
   "pygments_lexer": "ipython3",
   "version": "3.9.5"
  }
 },
 "nbformat": 4,
 "nbformat_minor": 5
}
