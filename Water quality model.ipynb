{
 "cells": [
  {
   "cell_type": "code",
   "execution_count": 1,
   "id": "f20a2d70",
   "metadata": {},
   "outputs": [],
   "source": [
    "import numpy as np\n",
    "import pandas as pd\n",
    "from sklearn.model_selection import train_test_split\n",
    "from sklearn.linear_model import LinearRegression\n",
    "from sklearn.metrics import accuracy_score\n",
    "from sklearn.linear_model import LogisticRegression\n",
    "from sklearn.ensemble import RandomForestClassifier\n",
    "import seaborn as sn\n",
    "import matplotlib.pyplot as pit"
   ]
  },
  {
   "cell_type": "code",
   "execution_count": 2,
   "id": "525a3405",
   "metadata": {},
   "outputs": [],
   "source": [
    "wq=pd.read_csv('rish.csv')\n"
   ]
  },
  {
   "cell_type": "code",
   "execution_count": 3,
   "id": "989ffe57",
   "metadata": {},
   "outputs": [
    {
     "data": {
      "text/html": [
       "<div>\n",
       "<style scoped>\n",
       "    .dataframe tbody tr th:only-of-type {\n",
       "        vertical-align: middle;\n",
       "    }\n",
       "\n",
       "    .dataframe tbody tr th {\n",
       "        vertical-align: top;\n",
       "    }\n",
       "\n",
       "    .dataframe thead th {\n",
       "        text-align: right;\n",
       "    }\n",
       "</style>\n",
       "<table border=\"1\" class=\"dataframe\">\n",
       "  <thead>\n",
       "    <tr style=\"text-align: right;\">\n",
       "      <th></th>\n",
       "      <th>Q (cumec)</th>\n",
       "      <th>EC_GEN (�mho/cm)</th>\n",
       "      <th>pH_GEN (pH units)</th>\n",
       "      <th>Temp (deg C)</th>\n",
       "      <th>TDS</th>\n",
       "      <th>Alk-Phen (mgCaCO3/L)</th>\n",
       "      <th>ALK-TOT (mgCaCO3/L)</th>\n",
       "      <th>Ca (mg/L)</th>\n",
       "      <th>Cl (mg/L)</th>\n",
       "      <th>CO3 (mg/L)</th>\n",
       "      <th>...</th>\n",
       "      <th>NO2+NO3 (mg N/L)</th>\n",
       "      <th>NO2-N (mgN/L)</th>\n",
       "      <th>NO3-N (mgN/L)</th>\n",
       "      <th>o-PO4-P (mg P/L)</th>\n",
       "      <th>SiO2 (mg/L)</th>\n",
       "      <th>SO4 (mg/L)</th>\n",
       "      <th>BOD3-27 (mg/L)</th>\n",
       "      <th>DO (mg/L)</th>\n",
       "      <th>DO_SAT% (%)</th>\n",
       "      <th>MAX DO</th>\n",
       "    </tr>\n",
       "  </thead>\n",
       "  <tbody>\n",
       "    <tr>\n",
       "      <th>0</th>\n",
       "      <td>394.0</td>\n",
       "      <td>180</td>\n",
       "      <td>7.8</td>\n",
       "      <td>19.0</td>\n",
       "      <td>0.0</td>\n",
       "      <td>0</td>\n",
       "      <td>76</td>\n",
       "      <td>22</td>\n",
       "      <td>13.0</td>\n",
       "      <td>0</td>\n",
       "      <td>...</td>\n",
       "      <td>0.45</td>\n",
       "      <td>0.0</td>\n",
       "      <td>0.45</td>\n",
       "      <td>0.486</td>\n",
       "      <td>42.0</td>\n",
       "      <td>7.6</td>\n",
       "      <td>1.3</td>\n",
       "      <td>7.1</td>\n",
       "      <td>77</td>\n",
       "      <td>1</td>\n",
       "    </tr>\n",
       "    <tr>\n",
       "      <th>1</th>\n",
       "      <td>798.5</td>\n",
       "      <td>180</td>\n",
       "      <td>7.3</td>\n",
       "      <td>19.0</td>\n",
       "      <td>0.0</td>\n",
       "      <td>0</td>\n",
       "      <td>72</td>\n",
       "      <td>21</td>\n",
       "      <td>8.0</td>\n",
       "      <td>0</td>\n",
       "      <td>...</td>\n",
       "      <td>0.38</td>\n",
       "      <td>0.0</td>\n",
       "      <td>0.38</td>\n",
       "      <td>0.331</td>\n",
       "      <td>42.0</td>\n",
       "      <td>6.9</td>\n",
       "      <td>1.3</td>\n",
       "      <td>7.0</td>\n",
       "      <td>76</td>\n",
       "      <td>1</td>\n",
       "    </tr>\n",
       "    <tr>\n",
       "      <th>2</th>\n",
       "      <td>1130.0</td>\n",
       "      <td>170</td>\n",
       "      <td>7.3</td>\n",
       "      <td>20.0</td>\n",
       "      <td>0.0</td>\n",
       "      <td>0</td>\n",
       "      <td>72</td>\n",
       "      <td>19</td>\n",
       "      <td>7.0</td>\n",
       "      <td>0</td>\n",
       "      <td>...</td>\n",
       "      <td>0.34</td>\n",
       "      <td>0.0</td>\n",
       "      <td>0.34</td>\n",
       "      <td>0.331</td>\n",
       "      <td>40.0</td>\n",
       "      <td>6.9</td>\n",
       "      <td>1.2</td>\n",
       "      <td>7.0</td>\n",
       "      <td>77</td>\n",
       "      <td>1</td>\n",
       "    </tr>\n",
       "    <tr>\n",
       "      <th>3</th>\n",
       "      <td>1000.0</td>\n",
       "      <td>126</td>\n",
       "      <td>8.0</td>\n",
       "      <td>19.5</td>\n",
       "      <td>0.0</td>\n",
       "      <td>0</td>\n",
       "      <td>56</td>\n",
       "      <td>7</td>\n",
       "      <td>6.0</td>\n",
       "      <td>0</td>\n",
       "      <td>...</td>\n",
       "      <td>0.34</td>\n",
       "      <td>0.0</td>\n",
       "      <td>0.34</td>\n",
       "      <td>0.331</td>\n",
       "      <td>38.0</td>\n",
       "      <td>6.1</td>\n",
       "      <td>1.2</td>\n",
       "      <td>6.9</td>\n",
       "      <td>74</td>\n",
       "      <td>0</td>\n",
       "    </tr>\n",
       "    <tr>\n",
       "      <th>4</th>\n",
       "      <td>572.3</td>\n",
       "      <td>315</td>\n",
       "      <td>7.9</td>\n",
       "      <td>20.0</td>\n",
       "      <td>0.0</td>\n",
       "      <td>0</td>\n",
       "      <td>52</td>\n",
       "      <td>7</td>\n",
       "      <td>5.0</td>\n",
       "      <td>0</td>\n",
       "      <td>...</td>\n",
       "      <td>0.45</td>\n",
       "      <td>0.0</td>\n",
       "      <td>0.45</td>\n",
       "      <td>0.486</td>\n",
       "      <td>36.0</td>\n",
       "      <td>6.9</td>\n",
       "      <td>1.1</td>\n",
       "      <td>7.1</td>\n",
       "      <td>79</td>\n",
       "      <td>1</td>\n",
       "    </tr>\n",
       "  </tbody>\n",
       "</table>\n",
       "<p>5 rows × 25 columns</p>\n",
       "</div>"
      ],
      "text/plain": [
       "   Q (cumec)  EC_GEN (�mho/cm)  pH_GEN (pH units)  Temp (deg C)  TDS  \\\n",
       "0      394.0               180                7.8          19.0  0.0   \n",
       "1      798.5               180                7.3          19.0  0.0   \n",
       "2     1130.0               170                7.3          20.0  0.0   \n",
       "3     1000.0               126                8.0          19.5  0.0   \n",
       "4      572.3               315                7.9          20.0  0.0   \n",
       "\n",
       "   Alk-Phen (mgCaCO3/L)  ALK-TOT (mgCaCO3/L)  Ca (mg/L)  Cl (mg/L)  \\\n",
       "0                     0                   76         22       13.0   \n",
       "1                     0                   72         21        8.0   \n",
       "2                     0                   72         19        7.0   \n",
       "3                     0                   56          7        6.0   \n",
       "4                     0                   52          7        5.0   \n",
       "\n",
       "   CO3 (mg/L)  ...  NO2+NO3 (mg N/L)  NO2-N (mgN/L)  NO3-N (mgN/L)  \\\n",
       "0           0  ...              0.45            0.0           0.45   \n",
       "1           0  ...              0.38            0.0           0.38   \n",
       "2           0  ...              0.34            0.0           0.34   \n",
       "3           0  ...              0.34            0.0           0.34   \n",
       "4           0  ...              0.45            0.0           0.45   \n",
       "\n",
       "   o-PO4-P (mg P/L)  SiO2 (mg/L)  SO4 (mg/L)  BOD3-27 (mg/L)  DO (mg/L)  \\\n",
       "0             0.486         42.0         7.6             1.3        7.1   \n",
       "1             0.331         42.0         6.9             1.3        7.0   \n",
       "2             0.331         40.0         6.9             1.2        7.0   \n",
       "3             0.331         38.0         6.1             1.2        6.9   \n",
       "4             0.486         36.0         6.9             1.1        7.1   \n",
       "\n",
       "   DO_SAT% (%)  MAX DO  \n",
       "0           77       1  \n",
       "1           76       1  \n",
       "2           77       1  \n",
       "3           74       0  \n",
       "4           79       1  \n",
       "\n",
       "[5 rows x 25 columns]"
      ]
     },
     "execution_count": 3,
     "metadata": {},
     "output_type": "execute_result"
    }
   ],
   "source": [
    "wq.head()"
   ]
  },
  {
   "cell_type": "code",
   "execution_count": 4,
   "id": "6f4ee820",
   "metadata": {},
   "outputs": [
    {
     "data": {
      "text/plain": [
       "(107, 25)"
      ]
     },
     "execution_count": 4,
     "metadata": {},
     "output_type": "execute_result"
    }
   ],
   "source": [
    "wq.shape"
   ]
  },
  {
   "cell_type": "code",
   "execution_count": 5,
   "id": "e2271030",
   "metadata": {},
   "outputs": [
    {
     "data": {
      "text/plain": [
       "2675"
      ]
     },
     "execution_count": 5,
     "metadata": {},
     "output_type": "execute_result"
    }
   ],
   "source": [
    "wq.size"
   ]
  },
  {
   "cell_type": "code",
   "execution_count": 6,
   "id": "dacc522b",
   "metadata": {},
   "outputs": [
    {
     "data": {
      "text/html": [
       "<div>\n",
       "<style scoped>\n",
       "    .dataframe tbody tr th:only-of-type {\n",
       "        vertical-align: middle;\n",
       "    }\n",
       "\n",
       "    .dataframe tbody tr th {\n",
       "        vertical-align: top;\n",
       "    }\n",
       "\n",
       "    .dataframe thead th {\n",
       "        text-align: right;\n",
       "    }\n",
       "</style>\n",
       "<table border=\"1\" class=\"dataframe\">\n",
       "  <thead>\n",
       "    <tr style=\"text-align: right;\">\n",
       "      <th></th>\n",
       "      <th>Q (cumec)</th>\n",
       "      <th>EC_GEN (�mho/cm)</th>\n",
       "      <th>pH_GEN (pH units)</th>\n",
       "      <th>Temp (deg C)</th>\n",
       "      <th>TDS</th>\n",
       "      <th>Alk-Phen (mgCaCO3/L)</th>\n",
       "      <th>ALK-TOT (mgCaCO3/L)</th>\n",
       "      <th>Ca (mg/L)</th>\n",
       "      <th>Cl (mg/L)</th>\n",
       "      <th>CO3 (mg/L)</th>\n",
       "      <th>...</th>\n",
       "      <th>NO2+NO3 (mg N/L)</th>\n",
       "      <th>NO2-N (mgN/L)</th>\n",
       "      <th>NO3-N (mgN/L)</th>\n",
       "      <th>o-PO4-P (mg P/L)</th>\n",
       "      <th>SiO2 (mg/L)</th>\n",
       "      <th>SO4 (mg/L)</th>\n",
       "      <th>BOD3-27 (mg/L)</th>\n",
       "      <th>DO (mg/L)</th>\n",
       "      <th>DO_SAT% (%)</th>\n",
       "      <th>MAX DO</th>\n",
       "    </tr>\n",
       "  </thead>\n",
       "  <tbody>\n",
       "    <tr>\n",
       "      <th>count</th>\n",
       "      <td>107.000000</td>\n",
       "      <td>107.000000</td>\n",
       "      <td>107.000000</td>\n",
       "      <td>107.000000</td>\n",
       "      <td>107.000000</td>\n",
       "      <td>107.0</td>\n",
       "      <td>107.000000</td>\n",
       "      <td>107.000000</td>\n",
       "      <td>107.000000</td>\n",
       "      <td>107.0</td>\n",
       "      <td>...</td>\n",
       "      <td>107.000000</td>\n",
       "      <td>107.000000</td>\n",
       "      <td>107.000000</td>\n",
       "      <td>107.000000</td>\n",
       "      <td>107.000000</td>\n",
       "      <td>107.000000</td>\n",
       "      <td>107.000000</td>\n",
       "      <td>107.000000</td>\n",
       "      <td>107.000000</td>\n",
       "      <td>107.000000</td>\n",
       "    </tr>\n",
       "    <tr>\n",
       "      <th>mean</th>\n",
       "      <td>686.328037</td>\n",
       "      <td>193.074766</td>\n",
       "      <td>7.914019</td>\n",
       "      <td>33.242056</td>\n",
       "      <td>86.932710</td>\n",
       "      <td>0.0</td>\n",
       "      <td>16.953271</td>\n",
       "      <td>5.355140</td>\n",
       "      <td>3.158879</td>\n",
       "      <td>0.0</td>\n",
       "      <td>...</td>\n",
       "      <td>0.102430</td>\n",
       "      <td>0.003458</td>\n",
       "      <td>0.100093</td>\n",
       "      <td>0.158075</td>\n",
       "      <td>8.742056</td>\n",
       "      <td>4.300000</td>\n",
       "      <td>1.962617</td>\n",
       "      <td>7.440187</td>\n",
       "      <td>77.336449</td>\n",
       "      <td>0.654206</td>\n",
       "    </tr>\n",
       "    <tr>\n",
       "      <th>std</th>\n",
       "      <td>664.194248</td>\n",
       "      <td>49.616777</td>\n",
       "      <td>0.380032</td>\n",
       "      <td>45.451658</td>\n",
       "      <td>66.317602</td>\n",
       "      <td>0.0</td>\n",
       "      <td>22.092594</td>\n",
       "      <td>7.220584</td>\n",
       "      <td>4.120243</td>\n",
       "      <td>0.0</td>\n",
       "      <td>...</td>\n",
       "      <td>0.182611</td>\n",
       "      <td>0.019038</td>\n",
       "      <td>0.180714</td>\n",
       "      <td>0.263865</td>\n",
       "      <td>15.524576</td>\n",
       "      <td>5.159695</td>\n",
       "      <td>4.751534</td>\n",
       "      <td>0.877696</td>\n",
       "      <td>8.356383</td>\n",
       "      <td>0.477865</td>\n",
       "    </tr>\n",
       "    <tr>\n",
       "      <th>min</th>\n",
       "      <td>183.000000</td>\n",
       "      <td>118.000000</td>\n",
       "      <td>7.100000</td>\n",
       "      <td>11.000000</td>\n",
       "      <td>0.000000</td>\n",
       "      <td>0.0</td>\n",
       "      <td>0.000000</td>\n",
       "      <td>0.000000</td>\n",
       "      <td>0.000000</td>\n",
       "      <td>0.0</td>\n",
       "      <td>...</td>\n",
       "      <td>0.000000</td>\n",
       "      <td>0.000000</td>\n",
       "      <td>0.000000</td>\n",
       "      <td>0.000000</td>\n",
       "      <td>0.000000</td>\n",
       "      <td>0.000000</td>\n",
       "      <td>0.800000</td>\n",
       "      <td>3.900000</td>\n",
       "      <td>39.000000</td>\n",
       "      <td>0.000000</td>\n",
       "    </tr>\n",
       "    <tr>\n",
       "      <th>25%</th>\n",
       "      <td>276.250000</td>\n",
       "      <td>160.500000</td>\n",
       "      <td>7.700000</td>\n",
       "      <td>15.300000</td>\n",
       "      <td>16.150000</td>\n",
       "      <td>0.0</td>\n",
       "      <td>0.000000</td>\n",
       "      <td>0.000000</td>\n",
       "      <td>0.000000</td>\n",
       "      <td>0.0</td>\n",
       "      <td>...</td>\n",
       "      <td>0.000000</td>\n",
       "      <td>0.000000</td>\n",
       "      <td>0.000000</td>\n",
       "      <td>0.000000</td>\n",
       "      <td>0.000000</td>\n",
       "      <td>0.000000</td>\n",
       "      <td>1.200000</td>\n",
       "      <td>7.000000</td>\n",
       "      <td>73.000000</td>\n",
       "      <td>0.000000</td>\n",
       "    </tr>\n",
       "    <tr>\n",
       "      <th>50%</th>\n",
       "      <td>416.000000</td>\n",
       "      <td>184.000000</td>\n",
       "      <td>7.900000</td>\n",
       "      <td>18.000000</td>\n",
       "      <td>100.000000</td>\n",
       "      <td>0.0</td>\n",
       "      <td>0.000000</td>\n",
       "      <td>0.000000</td>\n",
       "      <td>0.000000</td>\n",
       "      <td>0.0</td>\n",
       "      <td>...</td>\n",
       "      <td>0.000000</td>\n",
       "      <td>0.000000</td>\n",
       "      <td>0.000000</td>\n",
       "      <td>0.000000</td>\n",
       "      <td>0.000000</td>\n",
       "      <td>0.000000</td>\n",
       "      <td>1.200000</td>\n",
       "      <td>7.400000</td>\n",
       "      <td>77.000000</td>\n",
       "      <td>1.000000</td>\n",
       "    </tr>\n",
       "    <tr>\n",
       "      <th>75%</th>\n",
       "      <td>773.600000</td>\n",
       "      <td>213.500000</td>\n",
       "      <td>8.100000</td>\n",
       "      <td>20.500000</td>\n",
       "      <td>140.000000</td>\n",
       "      <td>0.0</td>\n",
       "      <td>35.000000</td>\n",
       "      <td>10.000000</td>\n",
       "      <td>6.900000</td>\n",
       "      <td>0.0</td>\n",
       "      <td>...</td>\n",
       "      <td>0.120000</td>\n",
       "      <td>0.000000</td>\n",
       "      <td>0.110000</td>\n",
       "      <td>0.240000</td>\n",
       "      <td>7.300000</td>\n",
       "      <td>9.200000</td>\n",
       "      <td>1.650000</td>\n",
       "      <td>8.000000</td>\n",
       "      <td>83.000000</td>\n",
       "      <td>1.000000</td>\n",
       "    </tr>\n",
       "    <tr>\n",
       "      <th>max</th>\n",
       "      <td>2957.000000</td>\n",
       "      <td>350.000000</td>\n",
       "      <td>10.000000</td>\n",
       "      <td>210.000000</td>\n",
       "      <td>240.000000</td>\n",
       "      <td>0.0</td>\n",
       "      <td>76.000000</td>\n",
       "      <td>36.000000</td>\n",
       "      <td>21.000000</td>\n",
       "      <td>0.0</td>\n",
       "      <td>...</td>\n",
       "      <td>0.520000</td>\n",
       "      <td>0.140000</td>\n",
       "      <td>0.520000</td>\n",
       "      <td>0.816000</td>\n",
       "      <td>42.000000</td>\n",
       "      <td>17.300000</td>\n",
       "      <td>50.100000</td>\n",
       "      <td>9.400000</td>\n",
       "      <td>94.000000</td>\n",
       "      <td>1.000000</td>\n",
       "    </tr>\n",
       "  </tbody>\n",
       "</table>\n",
       "<p>8 rows × 25 columns</p>\n",
       "</div>"
      ],
      "text/plain": [
       "         Q (cumec)  EC_GEN (�mho/cm)  pH_GEN (pH units)  Temp (deg C)  \\\n",
       "count   107.000000        107.000000         107.000000    107.000000   \n",
       "mean    686.328037        193.074766           7.914019     33.242056   \n",
       "std     664.194248         49.616777           0.380032     45.451658   \n",
       "min     183.000000        118.000000           7.100000     11.000000   \n",
       "25%     276.250000        160.500000           7.700000     15.300000   \n",
       "50%     416.000000        184.000000           7.900000     18.000000   \n",
       "75%     773.600000        213.500000           8.100000     20.500000   \n",
       "max    2957.000000        350.000000          10.000000    210.000000   \n",
       "\n",
       "              TDS  Alk-Phen (mgCaCO3/L)  ALK-TOT (mgCaCO3/L)   Ca (mg/L)  \\\n",
       "count  107.000000                 107.0           107.000000  107.000000   \n",
       "mean    86.932710                   0.0            16.953271    5.355140   \n",
       "std     66.317602                   0.0            22.092594    7.220584   \n",
       "min      0.000000                   0.0             0.000000    0.000000   \n",
       "25%     16.150000                   0.0             0.000000    0.000000   \n",
       "50%    100.000000                   0.0             0.000000    0.000000   \n",
       "75%    140.000000                   0.0            35.000000   10.000000   \n",
       "max    240.000000                   0.0            76.000000   36.000000   \n",
       "\n",
       "        Cl (mg/L)  CO3 (mg/L)  ...  NO2+NO3 (mg N/L)  NO2-N (mgN/L)  \\\n",
       "count  107.000000       107.0  ...        107.000000     107.000000   \n",
       "mean     3.158879         0.0  ...          0.102430       0.003458   \n",
       "std      4.120243         0.0  ...          0.182611       0.019038   \n",
       "min      0.000000         0.0  ...          0.000000       0.000000   \n",
       "25%      0.000000         0.0  ...          0.000000       0.000000   \n",
       "50%      0.000000         0.0  ...          0.000000       0.000000   \n",
       "75%      6.900000         0.0  ...          0.120000       0.000000   \n",
       "max     21.000000         0.0  ...          0.520000       0.140000   \n",
       "\n",
       "       NO3-N (mgN/L)  o-PO4-P (mg P/L)  SiO2 (mg/L)  SO4 (mg/L)  \\\n",
       "count     107.000000        107.000000   107.000000  107.000000   \n",
       "mean        0.100093          0.158075     8.742056    4.300000   \n",
       "std         0.180714          0.263865    15.524576    5.159695   \n",
       "min         0.000000          0.000000     0.000000    0.000000   \n",
       "25%         0.000000          0.000000     0.000000    0.000000   \n",
       "50%         0.000000          0.000000     0.000000    0.000000   \n",
       "75%         0.110000          0.240000     7.300000    9.200000   \n",
       "max         0.520000          0.816000    42.000000   17.300000   \n",
       "\n",
       "       BOD3-27 (mg/L)   DO (mg/L)  DO_SAT% (%)      MAX DO  \n",
       "count      107.000000  107.000000   107.000000  107.000000  \n",
       "mean         1.962617    7.440187    77.336449    0.654206  \n",
       "std          4.751534    0.877696     8.356383    0.477865  \n",
       "min          0.800000    3.900000    39.000000    0.000000  \n",
       "25%          1.200000    7.000000    73.000000    0.000000  \n",
       "50%          1.200000    7.400000    77.000000    1.000000  \n",
       "75%          1.650000    8.000000    83.000000    1.000000  \n",
       "max         50.100000    9.400000    94.000000    1.000000  \n",
       "\n",
       "[8 rows x 25 columns]"
      ]
     },
     "execution_count": 6,
     "metadata": {},
     "output_type": "execute_result"
    }
   ],
   "source": [
    "wq.describe()"
   ]
  },
  {
   "cell_type": "code",
   "execution_count": 7,
   "id": "90a0bf5d",
   "metadata": {},
   "outputs": [
    {
     "data": {
      "text/plain": [
       "Q (cumec)               0\n",
       "EC_GEN (�mho/cm)        0\n",
       "pH_GEN (pH units)       0\n",
       "Temp (deg C)            0\n",
       "TDS                     0\n",
       "Alk-Phen (mgCaCO3/L)    0\n",
       "ALK-TOT (mgCaCO3/L)     0\n",
       "Ca (mg/L)               0\n",
       "Cl (mg/L)               0\n",
       "CO3 (mg/L)              0\n",
       "F (mg/L)                0\n",
       "HCO3 (mg/L)             0\n",
       "K (mg/L)                0\n",
       "Mg (mg/L)               0\n",
       "Na (mg/L)               0\n",
       "NO2+NO3 (mg N/L)        0\n",
       "NO2-N (mgN/L)           0\n",
       "NO3-N (mgN/L)           0\n",
       "o-PO4-P (mg P/L)        0\n",
       "SiO2 (mg/L)             0\n",
       "SO4 (mg/L)              0\n",
       "BOD3-27 (mg/L)          0\n",
       "DO (mg/L)               0\n",
       "DO_SAT% (%)             0\n",
       "MAX DO                  0\n",
       "dtype: int64"
      ]
     },
     "execution_count": 7,
     "metadata": {},
     "output_type": "execute_result"
    }
   ],
   "source": [
    "wq.isnull().sum()"
   ]
  },
  {
   "cell_type": "code",
   "execution_count": 8,
   "id": "8bb1ed6d",
   "metadata": {},
   "outputs": [
    {
     "data": {
      "text/plain": [
       "array([[<AxesSubplot:title={'center':'Q (cumec)'}>,\n",
       "        <AxesSubplot:title={'center':'EC_GEN (�mho/cm)'}>,\n",
       "        <AxesSubplot:title={'center':'pH_GEN (pH units)'}>,\n",
       "        <AxesSubplot:title={'center':'Temp (deg C)'}>,\n",
       "        <AxesSubplot:title={'center':'TDS'}>],\n",
       "       [<AxesSubplot:title={'center':'Alk-Phen (mgCaCO3/L)'}>,\n",
       "        <AxesSubplot:title={'center':'ALK-TOT (mgCaCO3/L)'}>,\n",
       "        <AxesSubplot:title={'center':'Ca (mg/L)'}>,\n",
       "        <AxesSubplot:title={'center':'Cl (mg/L)'}>,\n",
       "        <AxesSubplot:title={'center':'CO3 (mg/L)'}>],\n",
       "       [<AxesSubplot:title={'center':'F (mg/L)'}>,\n",
       "        <AxesSubplot:title={'center':'HCO3 (mg/L)'}>,\n",
       "        <AxesSubplot:title={'center':'K (mg/L)'}>,\n",
       "        <AxesSubplot:title={'center':'Mg (mg/L)'}>,\n",
       "        <AxesSubplot:title={'center':'Na (mg/L)'}>],\n",
       "       [<AxesSubplot:title={'center':'NO2+NO3 (mg N/L)'}>,\n",
       "        <AxesSubplot:title={'center':'NO2-N (mgN/L)'}>,\n",
       "        <AxesSubplot:title={'center':'NO3-N (mgN/L)'}>,\n",
       "        <AxesSubplot:title={'center':'o-PO4-P (mg P/L)'}>,\n",
       "        <AxesSubplot:title={'center':'SiO2 (mg/L)'}>],\n",
       "       [<AxesSubplot:title={'center':'SO4 (mg/L)'}>,\n",
       "        <AxesSubplot:title={'center':'BOD3-27 (mg/L)'}>,\n",
       "        <AxesSubplot:title={'center':'DO (mg/L)'}>,\n",
       "        <AxesSubplot:title={'center':'DO_SAT% (%)'}>,\n",
       "        <AxesSubplot:title={'center':'MAX DO'}>]], dtype=object)"
      ]
     },
     "execution_count": 8,
     "metadata": {},
     "output_type": "execute_result"
    },
    {
     "data": {
      "image/png": "[encoded data removed]",
      "text/plain": [
       "<Figure size 1440x1080 with 25 Axes>"
      ]
     },
     "metadata": {
      "needs_background": "light"
     },
     "output_type": "display_data"
    }
   ],
   "source": [
    "wq.hist(bins=50, figsize=(20,15))"
   ]
  },
  {
   "cell_type": "code",
   "execution_count": 9,
   "id": "410abf50",
   "metadata": {},
   "outputs": [
    {
     "data": {
      "text/plain": [
       "array([[<AxesSubplot:xlabel='Q (cumec)', ylabel='Q (cumec)'>,\n",
       "        <AxesSubplot:xlabel='BOD3-27 (mg/L)', ylabel='Q (cumec)'>,\n",
       "        <AxesSubplot:xlabel='DO (mg/L)', ylabel='Q (cumec)'>,\n",
       "        <AxesSubplot:xlabel='DO_SAT% (%)', ylabel='Q (cumec)'>,\n",
       "        <AxesSubplot:xlabel='MAX DO', ylabel='Q (cumec)'>],\n",
       "       [<AxesSubplot:xlabel='Q (cumec)', ylabel='BOD3-27 (mg/L)'>,\n",
       "        <AxesSubplot:xlabel='BOD3-27 (mg/L)', ylabel='BOD3-27 (mg/L)'>,\n",
       "        <AxesSubplot:xlabel='DO (mg/L)', ylabel='BOD3-27 (mg/L)'>,\n",
       "        <AxesSubplot:xlabel='DO_SAT% (%)', ylabel='BOD3-27 (mg/L)'>,\n",
       "        <AxesSubplot:xlabel='MAX DO', ylabel='BOD3-27 (mg/L)'>],\n",
       "       [<AxesSubplot:xlabel='Q (cumec)', ylabel='DO (mg/L)'>,\n",
       "        <AxesSubplot:xlabel='BOD3-27 (mg/L)', ylabel='DO (mg/L)'>,\n",
       "        <AxesSubplot:xlabel='DO (mg/L)', ylabel='DO (mg/L)'>,\n",
       "        <AxesSubplot:xlabel='DO_SAT% (%)', ylabel='DO (mg/L)'>,\n",
       "        <AxesSubplot:xlabel='MAX DO', ylabel='DO (mg/L)'>],\n",
       "       [<AxesSubplot:xlabel='Q (cumec)', ylabel='DO_SAT% (%)'>,\n",
       "        <AxesSubplot:xlabel='BOD3-27 (mg/L)', ylabel='DO_SAT% (%)'>,\n",
       "        <AxesSubplot:xlabel='DO (mg/L)', ylabel='DO_SAT% (%)'>,\n",
       "        <AxesSubplot:xlabel='DO_SAT% (%)', ylabel='DO_SAT% (%)'>,\n",
       "        <AxesSubplot:xlabel='MAX DO', ylabel='DO_SAT% (%)'>],\n",
       "       [<AxesSubplot:xlabel='Q (cumec)', ylabel='MAX DO'>,\n",
       "        <AxesSubplot:xlabel='BOD3-27 (mg/L)', ylabel='MAX DO'>,\n",
       "        <AxesSubplot:xlabel='DO (mg/L)', ylabel='MAX DO'>,\n",
       "        <AxesSubplot:xlabel='DO_SAT% (%)', ylabel='MAX DO'>,\n",
       "        <AxesSubplot:xlabel='MAX DO', ylabel='MAX DO'>]], dtype=object)"
      ]
     },
     "execution_count": 9,
     "metadata": {},
     "output_type": "execute_result"
    },
    {
     "data": {
      "image/png": "[encoded data removed]",
      "text/plain": [
       "<Figure size 864x576 with 25 Axes>"
      ]
     },
     "metadata": {
      "needs_background": "light"
     },
     "output_type": "display_data"
    }
   ],
   "source": [
    "from pandas.plotting import scatter_matrix\n",
    "attributes=[\"Q (cumec)\",\"BOD3-27 (mg/L)\",\"DO (mg/L)\",\"DO_SAT% (%)\",\"MAX DO\"]\n",
    "scatter_matrix(wq[attributes],figsize=(12,8))          \n",
    "               "
   ]
  },
  {
   "cell_type": "code",
   "execution_count": 10,
   "id": "3da9344e",
   "metadata": {},
   "outputs": [
    {
     "data": {
      "text/plain": [
       "<AxesSubplot:xlabel='Q (cumec)', ylabel='MAX DO'>"
      ]
     },
     "execution_count": 10,
     "metadata": {},
     "output_type": "execute_result"
    },
    {
     "data": {
      "image/png": "[encoded data removed]",
      "text/plain": [
       "<Figure size 432x288 with 1 Axes>"
      ]
     },
     "metadata": {
      "needs_background": "light"
     },
     "output_type": "display_data"
    }
   ],
   "source": [
    "wq.plot(kind=\"scatter\", x=\"Q (cumec)\", y=\"MAX DO\",alpha=0.8)"
   ]
  },
  {
   "cell_type": "code",
   "execution_count": 11,
   "id": "d35d970d",
   "metadata": {},
   "outputs": [
    {
     "data": {
      "text/html": [
       "<div>\n",
       "<style scoped>\n",
       "    .dataframe tbody tr th:only-of-type {\n",
       "        vertical-align: middle;\n",
       "    }\n",
       "\n",
       "    .dataframe tbody tr th {\n",
       "        vertical-align: top;\n",
       "    }\n",
       "\n",
       "    .dataframe thead th {\n",
       "        text-align: right;\n",
       "    }\n",
       "</style>\n",
       "<table border=\"1\" class=\"dataframe\">\n",
       "  <thead>\n",
       "    <tr style=\"text-align: right;\">\n",
       "      <th></th>\n",
       "      <th>Q (cumec)</th>\n",
       "      <th>EC_GEN (�mho/cm)</th>\n",
       "      <th>pH_GEN (pH units)</th>\n",
       "      <th>Temp (deg C)</th>\n",
       "      <th>TDS</th>\n",
       "      <th>ALK-TOT (mgCaCO3/L)</th>\n",
       "      <th>Ca (mg/L)</th>\n",
       "      <th>Cl (mg/L)</th>\n",
       "      <th>CO3 (mg/L)</th>\n",
       "      <th>F (mg/L)</th>\n",
       "      <th>...</th>\n",
       "      <th>NO2+NO3 (mg N/L)</th>\n",
       "      <th>NO2-N (mgN/L)</th>\n",
       "      <th>NO3-N (mgN/L)</th>\n",
       "      <th>o-PO4-P (mg P/L)</th>\n",
       "      <th>SiO2 (mg/L)</th>\n",
       "      <th>SO4 (mg/L)</th>\n",
       "      <th>BOD3-27 (mg/L)</th>\n",
       "      <th>DO (mg/L)</th>\n",
       "      <th>DO_SAT% (%)</th>\n",
       "      <th>MAX DO</th>\n",
       "    </tr>\n",
       "  </thead>\n",
       "  <tbody>\n",
       "    <tr>\n",
       "      <th>0</th>\n",
       "      <td>394.0</td>\n",
       "      <td>180</td>\n",
       "      <td>7.8</td>\n",
       "      <td>19.0</td>\n",
       "      <td>0.0</td>\n",
       "      <td>76</td>\n",
       "      <td>22</td>\n",
       "      <td>13.0</td>\n",
       "      <td>0</td>\n",
       "      <td>1.18</td>\n",
       "      <td>...</td>\n",
       "      <td>0.45</td>\n",
       "      <td>0.0</td>\n",
       "      <td>0.45</td>\n",
       "      <td>0.486</td>\n",
       "      <td>42.0</td>\n",
       "      <td>7.6</td>\n",
       "      <td>1.3</td>\n",
       "      <td>7.1</td>\n",
       "      <td>77</td>\n",
       "      <td>1</td>\n",
       "    </tr>\n",
       "    <tr>\n",
       "      <th>1</th>\n",
       "      <td>798.5</td>\n",
       "      <td>180</td>\n",
       "      <td>7.3</td>\n",
       "      <td>19.0</td>\n",
       "      <td>0.0</td>\n",
       "      <td>72</td>\n",
       "      <td>21</td>\n",
       "      <td>8.0</td>\n",
       "      <td>0</td>\n",
       "      <td>0.84</td>\n",
       "      <td>...</td>\n",
       "      <td>0.38</td>\n",
       "      <td>0.0</td>\n",
       "      <td>0.38</td>\n",
       "      <td>0.331</td>\n",
       "      <td>42.0</td>\n",
       "      <td>6.9</td>\n",
       "      <td>1.3</td>\n",
       "      <td>7.0</td>\n",
       "      <td>76</td>\n",
       "      <td>1</td>\n",
       "    </tr>\n",
       "    <tr>\n",
       "      <th>2</th>\n",
       "      <td>1130.0</td>\n",
       "      <td>170</td>\n",
       "      <td>7.3</td>\n",
       "      <td>20.0</td>\n",
       "      <td>0.0</td>\n",
       "      <td>72</td>\n",
       "      <td>19</td>\n",
       "      <td>7.0</td>\n",
       "      <td>0</td>\n",
       "      <td>0.84</td>\n",
       "      <td>...</td>\n",
       "      <td>0.34</td>\n",
       "      <td>0.0</td>\n",
       "      <td>0.34</td>\n",
       "      <td>0.331</td>\n",
       "      <td>40.0</td>\n",
       "      <td>6.9</td>\n",
       "      <td>1.2</td>\n",
       "      <td>7.0</td>\n",
       "      <td>77</td>\n",
       "      <td>1</td>\n",
       "    </tr>\n",
       "    <tr>\n",
       "      <th>3</th>\n",
       "      <td>1000.0</td>\n",
       "      <td>126</td>\n",
       "      <td>8.0</td>\n",
       "      <td>19.5</td>\n",
       "      <td>0.0</td>\n",
       "      <td>56</td>\n",
       "      <td>7</td>\n",
       "      <td>6.0</td>\n",
       "      <td>0</td>\n",
       "      <td>0.68</td>\n",
       "      <td>...</td>\n",
       "      <td>0.34</td>\n",
       "      <td>0.0</td>\n",
       "      <td>0.34</td>\n",
       "      <td>0.331</td>\n",
       "      <td>38.0</td>\n",
       "      <td>6.1</td>\n",
       "      <td>1.2</td>\n",
       "      <td>6.9</td>\n",
       "      <td>74</td>\n",
       "      <td>0</td>\n",
       "    </tr>\n",
       "    <tr>\n",
       "      <th>4</th>\n",
       "      <td>572.3</td>\n",
       "      <td>315</td>\n",
       "      <td>7.9</td>\n",
       "      <td>20.0</td>\n",
       "      <td>0.0</td>\n",
       "      <td>52</td>\n",
       "      <td>7</td>\n",
       "      <td>5.0</td>\n",
       "      <td>0</td>\n",
       "      <td>0.68</td>\n",
       "      <td>...</td>\n",
       "      <td>0.45</td>\n",
       "      <td>0.0</td>\n",
       "      <td>0.45</td>\n",
       "      <td>0.486</td>\n",
       "      <td>36.0</td>\n",
       "      <td>6.9</td>\n",
       "      <td>1.1</td>\n",
       "      <td>7.1</td>\n",
       "      <td>79</td>\n",
       "      <td>1</td>\n",
       "    </tr>\n",
       "    <tr>\n",
       "      <th>...</th>\n",
       "      <td>...</td>\n",
       "      <td>...</td>\n",
       "      <td>...</td>\n",
       "      <td>...</td>\n",
       "      <td>...</td>\n",
       "      <td>...</td>\n",
       "      <td>...</td>\n",
       "      <td>...</td>\n",
       "      <td>...</td>\n",
       "      <td>...</td>\n",
       "      <td>...</td>\n",
       "      <td>...</td>\n",
       "      <td>...</td>\n",
       "      <td>...</td>\n",
       "      <td>...</td>\n",
       "      <td>...</td>\n",
       "      <td>...</td>\n",
       "      <td>...</td>\n",
       "      <td>...</td>\n",
       "      <td>...</td>\n",
       "      <td>...</td>\n",
       "    </tr>\n",
       "    <tr>\n",
       "      <th>102</th>\n",
       "      <td>316.4</td>\n",
       "      <td>145</td>\n",
       "      <td>7.3</td>\n",
       "      <td>12.5</td>\n",
       "      <td>110.0</td>\n",
       "      <td>0</td>\n",
       "      <td>0</td>\n",
       "      <td>0.0</td>\n",
       "      <td>0</td>\n",
       "      <td>0.00</td>\n",
       "      <td>...</td>\n",
       "      <td>0.00</td>\n",
       "      <td>0.0</td>\n",
       "      <td>0.00</td>\n",
       "      <td>0.000</td>\n",
       "      <td>0.0</td>\n",
       "      <td>0.0</td>\n",
       "      <td>1.1</td>\n",
       "      <td>7.7</td>\n",
       "      <td>71</td>\n",
       "      <td>0</td>\n",
       "    </tr>\n",
       "    <tr>\n",
       "      <th>103</th>\n",
       "      <td>316.4</td>\n",
       "      <td>169</td>\n",
       "      <td>7.9</td>\n",
       "      <td>12.5</td>\n",
       "      <td>100.0</td>\n",
       "      <td>0</td>\n",
       "      <td>0</td>\n",
       "      <td>0.0</td>\n",
       "      <td>0</td>\n",
       "      <td>0.00</td>\n",
       "      <td>...</td>\n",
       "      <td>0.00</td>\n",
       "      <td>0.0</td>\n",
       "      <td>0.00</td>\n",
       "      <td>0.000</td>\n",
       "      <td>0.0</td>\n",
       "      <td>0.0</td>\n",
       "      <td>0.8</td>\n",
       "      <td>8.3</td>\n",
       "      <td>77</td>\n",
       "      <td>1</td>\n",
       "    </tr>\n",
       "    <tr>\n",
       "      <th>104</th>\n",
       "      <td>316.4</td>\n",
       "      <td>200</td>\n",
       "      <td>7.7</td>\n",
       "      <td>15.0</td>\n",
       "      <td>150.0</td>\n",
       "      <td>0</td>\n",
       "      <td>0</td>\n",
       "      <td>0.0</td>\n",
       "      <td>0</td>\n",
       "      <td>0.00</td>\n",
       "      <td>...</td>\n",
       "      <td>0.00</td>\n",
       "      <td>0.0</td>\n",
       "      <td>0.00</td>\n",
       "      <td>0.000</td>\n",
       "      <td>0.0</td>\n",
       "      <td>0.0</td>\n",
       "      <td>2.3</td>\n",
       "      <td>7.8</td>\n",
       "      <td>77</td>\n",
       "      <td>1</td>\n",
       "    </tr>\n",
       "    <tr>\n",
       "      <th>105</th>\n",
       "      <td>460.0</td>\n",
       "      <td>155</td>\n",
       "      <td>7.8</td>\n",
       "      <td>16.0</td>\n",
       "      <td>120.0</td>\n",
       "      <td>0</td>\n",
       "      <td>0</td>\n",
       "      <td>0.0</td>\n",
       "      <td>0</td>\n",
       "      <td>0.00</td>\n",
       "      <td>...</td>\n",
       "      <td>0.00</td>\n",
       "      <td>0.0</td>\n",
       "      <td>0.00</td>\n",
       "      <td>0.000</td>\n",
       "      <td>0.0</td>\n",
       "      <td>0.0</td>\n",
       "      <td>1.0</td>\n",
       "      <td>7.6</td>\n",
       "      <td>76</td>\n",
       "      <td>1</td>\n",
       "    </tr>\n",
       "    <tr>\n",
       "      <th>106</th>\n",
       "      <td>590.4</td>\n",
       "      <td>121</td>\n",
       "      <td>7.9</td>\n",
       "      <td>19.0</td>\n",
       "      <td>100.0</td>\n",
       "      <td>0</td>\n",
       "      <td>0</td>\n",
       "      <td>0.0</td>\n",
       "      <td>0</td>\n",
       "      <td>0.00</td>\n",
       "      <td>...</td>\n",
       "      <td>0.00</td>\n",
       "      <td>0.0</td>\n",
       "      <td>0.00</td>\n",
       "      <td>0.000</td>\n",
       "      <td>0.0</td>\n",
       "      <td>0.0</td>\n",
       "      <td>0.8</td>\n",
       "      <td>7.4</td>\n",
       "      <td>79</td>\n",
       "      <td>1</td>\n",
       "    </tr>\n",
       "  </tbody>\n",
       "</table>\n",
       "<p>107 rows × 24 columns</p>\n",
       "</div>"
      ],
      "text/plain": [
       "     Q (cumec)  EC_GEN (�mho/cm)  pH_GEN (pH units)  Temp (deg C)    TDS  \\\n",
       "0        394.0               180                7.8          19.0    0.0   \n",
       "1        798.5               180                7.3          19.0    0.0   \n",
       "2       1130.0               170                7.3          20.0    0.0   \n",
       "3       1000.0               126                8.0          19.5    0.0   \n",
       "4        572.3               315                7.9          20.0    0.0   \n",
       "..         ...               ...                ...           ...    ...   \n",
       "102      316.4               145                7.3          12.5  110.0   \n",
       "103      316.4               169                7.9          12.5  100.0   \n",
       "104      316.4               200                7.7          15.0  150.0   \n",
       "105      460.0               155                7.8          16.0  120.0   \n",
       "106      590.4               121                7.9          19.0  100.0   \n",
       "\n",
       "     ALK-TOT (mgCaCO3/L)  Ca (mg/L)  Cl (mg/L)  CO3 (mg/L)  F (mg/L)  ...  \\\n",
       "0                     76         22       13.0           0      1.18  ...   \n",
       "1                     72         21        8.0           0      0.84  ...   \n",
       "2                     72         19        7.0           0      0.84  ...   \n",
       "3                     56          7        6.0           0      0.68  ...   \n",
       "4                     52          7        5.0           0      0.68  ...   \n",
       "..                   ...        ...        ...         ...       ...  ...   \n",
       "102                    0          0        0.0           0      0.00  ...   \n",
       "103                    0          0        0.0           0      0.00  ...   \n",
       "104                    0          0        0.0           0      0.00  ...   \n",
       "105                    0          0        0.0           0      0.00  ...   \n",
       "106                    0          0        0.0           0      0.00  ...   \n",
       "\n",
       "     NO2+NO3 (mg N/L)  NO2-N (mgN/L)  NO3-N (mgN/L)  o-PO4-P (mg P/L)  \\\n",
       "0                0.45            0.0           0.45             0.486   \n",
       "1                0.38            0.0           0.38             0.331   \n",
       "2                0.34            0.0           0.34             0.331   \n",
       "3                0.34            0.0           0.34             0.331   \n",
       "4                0.45            0.0           0.45             0.486   \n",
       "..                ...            ...            ...               ...   \n",
       "102              0.00            0.0           0.00             0.000   \n",
       "103              0.00            0.0           0.00             0.000   \n",
       "104              0.00            0.0           0.00             0.000   \n",
       "105              0.00            0.0           0.00             0.000   \n",
       "106              0.00            0.0           0.00             0.000   \n",
       "\n",
       "     SiO2 (mg/L)  SO4 (mg/L)  BOD3-27 (mg/L)  DO (mg/L)  DO_SAT% (%)  MAX DO  \n",
       "0           42.0         7.6             1.3        7.1           77       1  \n",
       "1           42.0         6.9             1.3        7.0           76       1  \n",
       "2           40.0         6.9             1.2        7.0           77       1  \n",
       "3           38.0         6.1             1.2        6.9           74       0  \n",
       "4           36.0         6.9             1.1        7.1           79       1  \n",
       "..           ...         ...             ...        ...          ...     ...  \n",
       "102          0.0         0.0             1.1        7.7           71       0  \n",
       "103          0.0         0.0             0.8        8.3           77       1  \n",
       "104          0.0         0.0             2.3        7.8           77       1  \n",
       "105          0.0         0.0             1.0        7.6           76       1  \n",
       "106          0.0         0.0             0.8        7.4           79       1  \n",
       "\n",
       "[107 rows x 24 columns]"
      ]
     },
     "execution_count": 11,
     "metadata": {},
     "output_type": "execute_result"
    }
   ],
   "source": [
    "wq.drop(\"Alk-Phen (mgCaCO3/L)\", axis=1)\n"
   ]
  },
  {
   "cell_type": "code",
   "execution_count": 12,
   "id": "3e859993",
   "metadata": {},
   "outputs": [],
   "source": [
    "from sklearn.metrics import accuracy_score"
   ]
  },
  {
   "cell_type": "code",
   "execution_count": 13,
   "id": "9e4038c9",
   "metadata": {},
   "outputs": [
    {
     "name": "stdout",
     "output_type": "stream",
     "text": [
      "<class 'pandas.core.frame.DataFrame'>\n",
      "RangeIndex: 107 entries, 0 to 106\n",
      "Data columns (total 25 columns):\n",
      " #   Column                Non-Null Count  Dtype  \n",
      "---  ------                --------------  -----  \n",
      " 0   Q (cumec)             107 non-null    float64\n",
      " 1   EC_GEN (�mho/cm)      107 non-null    int64  \n",
      " 2   pH_GEN (pH units)     107 non-null    float64\n",
      " 3   Temp (deg C)          107 non-null    float64\n",
      " 4   TDS                   107 non-null    float64\n",
      " 5   Alk-Phen (mgCaCO3/L)  107 non-null    int64  \n",
      " 6   ALK-TOT (mgCaCO3/L)   107 non-null    int64  \n",
      " 7   Ca (mg/L)             107 non-null    int64  \n",
      " 8   Cl (mg/L)             107 non-null    float64\n",
      " 9   CO3 (mg/L)            107 non-null    int64  \n",
      " 10  F (mg/L)              107 non-null    float64\n",
      " 11  HCO3 (mg/L)           107 non-null    int64  \n",
      " 12  K (mg/L)              107 non-null    float64\n",
      " 13  Mg (mg/L)             107 non-null    float64\n",
      " 14  Na (mg/L)             107 non-null    float64\n",
      " 15  NO2+NO3 (mg N/L)      107 non-null    float64\n",
      " 16  NO2-N (mgN/L)         107 non-null    float64\n",
      " 17  NO3-N (mgN/L)         107 non-null    float64\n",
      " 18  o-PO4-P (mg P/L)      107 non-null    float64\n",
      " 19  SiO2 (mg/L)           107 non-null    float64\n",
      " 20  SO4 (mg/L)            107 non-null    float64\n",
      " 21  BOD3-27 (mg/L)        107 non-null    float64\n",
      " 22  DO (mg/L)             107 non-null    float64\n",
      " 23  DO_SAT% (%)           107 non-null    int64  \n",
      " 24  MAX DO                107 non-null    int64  \n",
      "dtypes: float64(17), int64(8)\n",
      "memory usage: 21.0 KB\n"
     ]
    }
   ],
   "source": [
    "wq.info()\n"
   ]
  },
  {
   "cell_type": "code",
   "execution_count": 14,
   "id": "a268428d",
   "metadata": {},
   "outputs": [],
   "source": [
    "x=wq.drop(columns='MAX DO', axis=1)\n",
    "y=wq['MAX DO']"
   ]
  },
  {
   "cell_type": "code",
   "execution_count": 15,
   "id": "dd48e2ad",
   "metadata": {},
   "outputs": [
    {
     "name": "stdout",
     "output_type": "stream",
     "text": [
      "<class 'pandas.core.frame.DataFrame'>\n",
      "RangeIndex: 107 entries, 0 to 106\n",
      "Data columns (total 25 columns):\n",
      " #   Column                Non-Null Count  Dtype  \n",
      "---  ------                --------------  -----  \n",
      " 0   Q (cumec)             107 non-null    float64\n",
      " 1   EC_GEN (�mho/cm)      107 non-null    int64  \n",
      " 2   pH_GEN (pH units)     107 non-null    float64\n",
      " 3   Temp (deg C)          107 non-null    float64\n",
      " 4   TDS                   107 non-null    float64\n",
      " 5   Alk-Phen (mgCaCO3/L)  107 non-null    int64  \n",
      " 6   ALK-TOT (mgCaCO3/L)   107 non-null    int64  \n",
      " 7   Ca (mg/L)             107 non-null    int64  \n",
      " 8   Cl (mg/L)             107 non-null    float64\n",
      " 9   CO3 (mg/L)            107 non-null    int64  \n",
      " 10  F (mg/L)              107 non-null    float64\n",
      " 11  HCO3 (mg/L)           107 non-null    int64  \n",
      " 12  K (mg/L)              107 non-null    float64\n",
      " 13  Mg (mg/L)             107 non-null    float64\n",
      " 14  Na (mg/L)             107 non-null    float64\n",
      " 15  NO2+NO3 (mg N/L)      107 non-null    float64\n",
      " 16  NO2-N (mgN/L)         107 non-null    float64\n",
      " 17  NO3-N (mgN/L)         107 non-null    float64\n",
      " 18  o-PO4-P (mg P/L)      107 non-null    float64\n",
      " 19  SiO2 (mg/L)           107 non-null    float64\n",
      " 20  SO4 (mg/L)            107 non-null    float64\n",
      " 21  BOD3-27 (mg/L)        107 non-null    float64\n",
      " 22  DO (mg/L)             107 non-null    float64\n",
      " 23  DO_SAT% (%)           107 non-null    int64  \n",
      " 24  MAX DO                107 non-null    int64  \n",
      "dtypes: float64(17), int64(8)\n",
      "memory usage: 21.0 KB\n"
     ]
    }
   ],
   "source": [
    "wq.info()"
   ]
  },
  {
   "cell_type": "code",
   "execution_count": 16,
   "id": "048d8391",
   "metadata": {},
   "outputs": [
    {
     "name": "stdout",
     "output_type": "stream",
     "text": [
      "     Q (cumec)  EC_GEN (�mho/cm)  pH_GEN (pH units)  Temp (deg C)    TDS  \\\n",
      "0        394.0               180                7.8          19.0    0.0   \n",
      "1        798.5               180                7.3          19.0    0.0   \n",
      "2       1130.0               170                7.3          20.0    0.0   \n",
      "3       1000.0               126                8.0          19.5    0.0   \n",
      "4        572.3               315                7.9          20.0    0.0   \n",
      "..         ...               ...                ...           ...    ...   \n",
      "102      316.4               145                7.3          12.5  110.0   \n",
      "103      316.4               169                7.9          12.5  100.0   \n",
      "104      316.4               200                7.7          15.0  150.0   \n",
      "105      460.0               155                7.8          16.0  120.0   \n",
      "106      590.4               121                7.9          19.0  100.0   \n",
      "\n",
      "     Alk-Phen (mgCaCO3/L)  ALK-TOT (mgCaCO3/L)  Ca (mg/L)  Cl (mg/L)  \\\n",
      "0                       0                   76         22       13.0   \n",
      "1                       0                   72         21        8.0   \n",
      "2                       0                   72         19        7.0   \n",
      "3                       0                   56          7        6.0   \n",
      "4                       0                   52          7        5.0   \n",
      "..                    ...                  ...        ...        ...   \n",
      "102                     0                    0          0        0.0   \n",
      "103                     0                    0          0        0.0   \n",
      "104                     0                    0          0        0.0   \n",
      "105                     0                    0          0        0.0   \n",
      "106                     0                    0          0        0.0   \n",
      "\n",
      "     CO3 (mg/L)  ...  Na (mg/L)  NO2+NO3 (mg N/L)  NO2-N (mgN/L)  \\\n",
      "0             0  ...        3.1              0.45            0.0   \n",
      "1             0  ...        2.9              0.38            0.0   \n",
      "2             0  ...        2.8              0.34            0.0   \n",
      "3             0  ...        2.9              0.34            0.0   \n",
      "4             0  ...        2.9              0.45            0.0   \n",
      "..          ...  ...        ...               ...            ...   \n",
      "102           0  ...        0.0              0.00            0.0   \n",
      "103           0  ...        0.0              0.00            0.0   \n",
      "104           0  ...        0.0              0.00            0.0   \n",
      "105           0  ...        0.0              0.00            0.0   \n",
      "106           0  ...        0.0              0.00            0.0   \n",
      "\n",
      "     NO3-N (mgN/L)  o-PO4-P (mg P/L)  SiO2 (mg/L)  SO4 (mg/L)  BOD3-27 (mg/L)  \\\n",
      "0             0.45             0.486         42.0         7.6             1.3   \n",
      "1             0.38             0.331         42.0         6.9             1.3   \n",
      "2             0.34             0.331         40.0         6.9             1.2   \n",
      "3             0.34             0.331         38.0         6.1             1.2   \n",
      "4             0.45             0.486         36.0         6.9             1.1   \n",
      "..             ...               ...          ...         ...             ...   \n",
      "102           0.00             0.000          0.0         0.0             1.1   \n",
      "103           0.00             0.000          0.0         0.0             0.8   \n",
      "104           0.00             0.000          0.0         0.0             2.3   \n",
      "105           0.00             0.000          0.0         0.0             1.0   \n",
      "106           0.00             0.000          0.0         0.0             0.8   \n",
      "\n",
      "     DO (mg/L)  DO_SAT% (%)  \n",
      "0          7.1           77  \n",
      "1          7.0           76  \n",
      "2          7.0           77  \n",
      "3          6.9           74  \n",
      "4          7.1           79  \n",
      "..         ...          ...  \n",
      "102        7.7           71  \n",
      "103        8.3           77  \n",
      "104        7.8           77  \n",
      "105        7.6           76  \n",
      "106        7.4           79  \n",
      "\n",
      "[107 rows x 24 columns]\n"
     ]
    }
   ],
   "source": [
    "print(x)"
   ]
  },
  {
   "cell_type": "code",
   "execution_count": 17,
   "id": "df2b650d",
   "metadata": {},
   "outputs": [
    {
     "name": "stdout",
     "output_type": "stream",
     "text": [
      "0      1\n",
      "1      1\n",
      "2      1\n",
      "3      0\n",
      "4      1\n",
      "      ..\n",
      "102    0\n",
      "103    1\n",
      "104    1\n",
      "105    1\n",
      "106    1\n",
      "Name: MAX DO, Length: 107, dtype: int64\n"
     ]
    }
   ],
   "source": [
    "print(y)"
   ]
  },
  {
   "cell_type": "code",
   "execution_count": 18,
   "id": "16fca03e",
   "metadata": {},
   "outputs": [],
   "source": [
    "x_train, x_test,y_train,y_test= train_test_split(x,y,test_size=0.2, stratify=y, random_state=1)"
   ]
  },
  {
   "cell_type": "code",
   "execution_count": 19,
   "id": "92b44b72",
   "metadata": {},
   "outputs": [
    {
     "name": "stdout",
     "output_type": "stream",
     "text": [
      "(107, 24) (85, 24) (22, 24)\n"
     ]
    }
   ],
   "source": [
    "print(x.shape,x_train.shape,x_test.shape)"
   ]
  },
  {
   "cell_type": "code",
   "execution_count": 20,
   "id": "0a9d2a1b",
   "metadata": {},
   "outputs": [
    {
     "name": "stderr",
     "output_type": "stream",
     "text": [
      "C:\\Program Files\\Python39\\lib\\site-packages\\sklearn\\linear_model\\_logistic.py:763: ConvergenceWarning: lbfgs failed to converge (status=1):\n",
      "STOP: TOTAL NO. of ITERATIONS REACHED LIMIT.\n",
      "\n",
      "Increase the number of iterations (max_iter) or scale the data as shown in:\n",
      "    https://scikit-learn.org/stable/modules/preprocessing.html\n",
      "Please also refer to the documentation for alternative solver options:\n",
      "    https://scikit-learn.org/stable/modules/linear_model.html#logistic-regression\n",
      "  n_iter_i = _check_optimize_result(\n"
     ]
    },
    {
     "data": {
      "text/plain": [
       "LogisticRegression()"
      ]
     },
     "execution_count": 20,
     "metadata": {},
     "output_type": "execute_result"
    }
   ],
   "source": [
    "##Model Fitting\n",
    "model=LogisticRegression()\n",
    "model.fit(x_train, y_train)"
   ]
  },
  {
   "cell_type": "code",
   "execution_count": 21,
   "id": "ae5d9b41",
   "metadata": {},
   "outputs": [
    {
     "name": "stderr",
     "output_type": "stream",
     "text": [
      "C:\\Program Files\\Python39\\lib\\site-packages\\sklearn\\linear_model\\_logistic.py:763: ConvergenceWarning: lbfgs failed to converge (status=1):\n",
      "STOP: TOTAL NO. of ITERATIONS REACHED LIMIT.\n",
      "\n",
      "Increase the number of iterations (max_iter) or scale the data as shown in:\n",
      "    https://scikit-learn.org/stable/modules/preprocessing.html\n",
      "Please also refer to the documentation for alternative solver options:\n",
      "    https://scikit-learn.org/stable/modules/linear_model.html#logistic-regression\n",
      "  n_iter_i = _check_optimize_result(\n"
     ]
    },
    {
     "data": {
      "text/plain": [
       "LogisticRegression()"
      ]
     },
     "execution_count": 21,
     "metadata": {},
     "output_type": "execute_result"
    }
   ],
   "source": [
    "x_train\n",
    "model.fit(x_train, y_train)"
   ]
  },
  {
   "cell_type": "code",
   "execution_count": 22,
   "id": "38341a92",
   "metadata": {},
   "outputs": [],
   "source": [
    "# from sklearn.linear_model import TweedieRegressor\n",
    "# >>> reg = TweedieRegressor(power=1, alpha=0.5, link='log')\n",
    "# >>> reg.fit([[0, 0], [0, 1], [2, 2]], [0, 1, 2])\n",
    "# TweedieRegressor(alpha=0.5, link='log', power=1)\n",
    "# >>> reg.coef_"
   ]
  },
  {
   "cell_type": "code",
   "execution_count": 23,
   "id": "6b74ca35",
   "metadata": {},
   "outputs": [],
   "source": [
    "# reg.intercept_"
   ]
  },
  {
   "cell_type": "code",
   "execution_count": 24,
   "id": "1a94a5d6",
   "metadata": {},
   "outputs": [],
   "source": [
    "x_train_pred=model.predict(x_train)\n",
    "train_data_accuracy=accuracy_score(x_train_pred, y_train)"
   ]
  },
  {
   "cell_type": "code",
   "execution_count": 25,
   "id": "0f3a09a6",
   "metadata": {},
   "outputs": [
    {
     "name": "stdout",
     "output_type": "stream",
     "text": [
      "Accuracy of tarining data is : 0.8470588235294118\n"
     ]
    }
   ],
   "source": [
    "print('Accuracy of tarining data is :',train_data_accuracy)"
   ]
  },
  {
   "cell_type": "code",
   "execution_count": 26,
   "id": "d04cac14",
   "metadata": {},
   "outputs": [],
   "source": [
    "x_test_pred=model.predict(x_test)\n",
    "test_data_accuracy=accuracy_score(x_test_pred, y_test)"
   ]
  },
  {
   "cell_type": "code",
   "execution_count": 27,
   "id": "d8a35f83",
   "metadata": {},
   "outputs": [
    {
     "name": "stdout",
     "output_type": "stream",
     "text": [
      "Accuracy of test data is : 0.7727272727272727\n"
     ]
    }
   ],
   "source": [
    "print('Accuracy of test data is :',test_data_accuracy)"
   ]
  },
  {
   "cell_type": "code",
   "execution_count": 28,
   "id": "2e6e8e40",
   "metadata": {},
   "outputs": [
    {
     "data": {
      "text/plain": [
       "MAX DO                  1.000000\n",
       "DO_SAT% (%)             0.731071\n",
       "DO (mg/L)               0.535036\n",
       "Temp (deg C)            0.134586\n",
       "pH_GEN (pH units)       0.094477\n",
       "Q (cumec)               0.028449\n",
       "TDS                     0.025306\n",
       "EC_GEN (�mho/cm)       -0.078477\n",
       "NO2-N (mgN/L)          -0.136936\n",
       "Na (mg/L)              -0.139130\n",
       "BOD3-27 (mg/L)         -0.151582\n",
       "ALK-TOT (mgCaCO3/L)    -0.151670\n",
       "Ca (mg/L)              -0.182802\n",
       "HCO3 (mg/L)            -0.198073\n",
       "K (mg/L)               -0.205589\n",
       "SiO2 (mg/L)            -0.214711\n",
       "Mg (mg/L)              -0.217377\n",
       "SO4 (mg/L)             -0.232249\n",
       "Cl (mg/L)              -0.238717\n",
       "NO3-N (mgN/L)          -0.247606\n",
       "o-PO4-P (mg P/L)       -0.263303\n",
       "NO2+NO3 (mg N/L)       -0.264877\n",
       "F (mg/L)               -0.266721\n",
       "Alk-Phen (mgCaCO3/L)         NaN\n",
       "CO3 (mg/L)                   NaN\n",
       "Name: MAX DO, dtype: float64"
      ]
     },
     "execution_count": 28,
     "metadata": {},
     "output_type": "execute_result"
    }
   ],
   "source": [
    "corr_matrix = wq.corr()\n",
    "corr_matrix['MAX DO'].sort_values(ascending=False)"
   ]
  },
  {
   "cell_type": "code",
   "execution_count": 29,
   "id": "b6dcdec2",
   "metadata": {},
   "outputs": [
    {
     "data": {
      "text/plain": [
       "['wq.joblib']"
      ]
     },
     "execution_count": 29,
     "metadata": {},
     "output_type": "execute_result"
    }
   ],
   "source": [
    "## Saving the model\n",
    "from joblib import dump, load\n",
    "dump(model, 'wq.joblib') "
   ]
  },
  {
   "cell_type": "code",
   "execution_count": 30,
   "id": "7cc40aad",
   "metadata": {},
   "outputs": [
    {
     "name": "stdout",
     "output_type": "stream",
     "text": [
      "[1 1 1 1 1 1 1 0 0 0 0 1 1 1 1 1 0 0 0 0 0 0 0 0 1 1 1 1 1 1 0 0 0 1 1 1 1\n",
      " 1 0 1 1 1 0 0 0 0 0 1 0 1 0 1 0 1 1 1 1 1 1 1 1 1 1 1 1 1 1 1 1 1 1 1 0 0\n",
      " 0 1 1 1 1 1 0 1 0 1 0 1 1 1 1 1 1 1 1 1 1 1 1 1 1 0 1 1 1 1 1 1 1] [1, 1, 1, 0, 1, 0, 0, 0, 0, 0, 1, 1, 1, 1, 1, 1, 1, 0, 0, 0, 0, 0, 0, 0, 1, 1, 1, 1, 1, 1, 0, 0, 0, 1, 1, 1, 0, 0, 0, 1, 1, 1, 1, 1, 0, 0, 0, 0, 0, 0, 0, 1, 1, 0, 0, 1, 1, 1, 1, 1, 1, 1, 1, 1, 1, 1, 1, 1, 1, 1, 1, 1, 0, 0, 0, 1, 0, 1, 1, 1, 0, 1, 0, 1, 0, 1, 1, 1, 1, 1, 1, 0, 1, 1, 1, 1, 1, 1, 1, 1, 1, 1, 0, 1, 1, 1, 1]\n"
     ]
    }
   ],
   "source": [
    "x_test=wq.drop(columns='MAX DO', axis=1)\n",
    "y_test=wq['MAX DO']\n",
    "\n",
    "final_predictions = model.predict(x_test)\n",
    "print(final_predictions, list(y_test))"
   ]
  },
  {
   "cell_type": "code",
   "execution_count": 31,
   "id": "07f2d6a2",
   "metadata": {},
   "outputs": [
    {
     "data": {
      "text/plain": [
       "array([1], dtype=int64)"
      ]
     },
     "execution_count": 31,
     "metadata": {},
     "output_type": "execute_result"
    }
   ],
   "source": [
    "from joblib import dump, load\n",
    "import numpy as np\n",
    "model = load('wq.joblib') \n",
    "features = np.array([[ 259.3,121,7.9,16,0,0,48,9,5,0,0.84,59,0.6,11.5,2.9,0.52,0,0.52,0.486,34,6.9,1.2,7.2,70]])\n",
    "model.predict(features)"
   ]
  },
  {
   "cell_type": "code",
   "execution_count": 32,
   "id": "bccb4386",
   "metadata": {},
   "outputs": [
    {
     "data": {
      "text/plain": [
       "0.75"
      ]
     },
     "execution_count": 32,
     "metadata": {},
     "output_type": "execute_result"
    }
   ],
   "source": [
    "from sklearn.metrics import recall_score\n",
    "y_true = [1,1,1,0,1,0,0,0,0, 0, 1, 1, 1, 1, 1, 1, 1, 0, 0,0]\n",
    "y_pred = [1,1,1,1,1,1,1,0,0,0,0,1,1,1,1,1,0,0,0,0]\n",
    "recall_score(y_true, y_pred, average='micro')\n",
    "# recall_score(y_true, y_pred, average=None)"
   ]
  },
  {
   "cell_type": "code",
   "execution_count": 33,
   "id": "14e54de1",
   "metadata": {},
   "outputs": [
    {
     "data": {
      "text/plain": [
       "0.75"
      ]
     },
     "execution_count": 33,
     "metadata": {},
     "output_type": "execute_result"
    }
   ],
   "source": [
    "from sklearn.metrics import precision_score\n",
    "y_true = [1,1,1,0,1,0,0,0,0, 0, 1, 1, 1, 1, 1, 1, 1, 0, 0,0]\n",
    "y_pred = [1,1,1,1,1,1,1,0,0,0,0,1,1,1,1,1,0,0,0,0]\n",
    "precision_score(y_true, y_pred, average='micro')\n",
    "# precision_score(y_true, y_pred, average='weighted')\n",
    "# precision_score(y_true, y_pred, average=None)"
   ]
  },
  {
   "cell_type": "code",
   "execution_count": null,
   "id": "95481247",
   "metadata": {},
   "outputs": [],
   "source": []
  }
 ],
 "metadata": {
  "kernelspec": {
   "display_name": "Python 3 (ipykernel)",
   "language": "python",
   "name": "python3"
  },
  "language_info": {
   "codemirror_mode": {
    "name": "ipython",
    "version": 3
   },
   "file_extension": ".py",
   "mimetype": "text/x-python",
   "name": "python",
   "nbconvert_exporter": "python",
   "pygments_lexer": "ipython3",
   "version": "3.9.5"
  }
 },
 "nbformat": 4,
 "nbformat_minor": 5
}
